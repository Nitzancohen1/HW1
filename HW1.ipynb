{
  "nbformat": 4,
  "nbformat_minor": 0,
  "metadata": {
    "colab": {
      "provenance": [],
      "collapsed_sections": [],
      "include_colab_link": true
    },
    "kernelspec": {
      "name": "python3",
      "display_name": "Python 3"
    },
    "language_info": {
      "name": "python"
    }
  },
  "cells": [
    {
      "cell_type": "markdown",
      "metadata": {
        "id": "view-in-github",
        "colab_type": "text"
      },
      "source": [
        "<a href=\"https://colab.research.google.com/github/Nitzancohen1/HW1/blob/main/HW1.ipynb\" target=\"_parent\"><img src=\"https://colab.research.google.com/assets/colab-badge.svg\" alt=\"Open In Colab\"/></a>"
      ]
    },
    {
      "cell_type": "markdown",
      "source": [
        "# Assignment1 <br>\n",
        "### Names: Idan Bar Oz 206670853, Nitzan Cohen 209511187, Yanai Bardos 209540517"
      ],
      "metadata": {
        "id": "ZKBmmCy1tpzF"
      }
    },
    {
      "cell_type": "markdown",
      "source": [
        "# Import libraries"
      ],
      "metadata": {
        "id": "89t_Xmmctu3r"
      }
    },
    {
      "cell_type": "code",
      "execution_count": null,
      "metadata": {
        "id": "f-EmNzgdtdBX",
        "colab": {
          "base_uri": "https://localhost:8080/"
        },
        "outputId": "bf171ba4-7d37-4072-d947-47ccb83e875c"
      },
      "outputs": [
        {
          "output_type": "stream",
          "name": "stdout",
          "text": [
            "Mounted at /content/drive\n"
          ]
        }
      ],
      "source": [
        "from google.colab import drive\n",
        "import os\n",
        "import time\n",
        "\n",
        "import pandas as pd\n",
        "import numpy as np\n",
        "import seaborn as sns\n",
        "import matplotlib.pyplot as plt\n",
        "from sklearn.metrics import mean_squared_error\n",
        "\n",
        "from sklearn.ensemble import RandomForestRegressor\n",
        "from sklearn.model_selection import GridSearchCV\n",
        "\n",
        "import xgboost as xgb\n",
        "from xgboost.sklearn import XGBRegressor\n",
        "from sklearn.tree import DecisionTreeRegressor\n",
        "\n",
        "import warnings\n",
        "warnings.filterwarnings('ignore')\n",
        "drive.mount('/content/drive')"
      ]
    },
    {
      "cell_type": "markdown",
      "source": [
        "# Loading the data"
      ],
      "metadata": {
        "id": "JqLgFNOYuXIV"
      }
    },
    {
      "cell_type": "code",
      "source": [
        "df_train = pd.read_csv('/content/drive/My Drive/Colab Notebooks/train.csv')\n",
        "df_test = pd.read_csv('/content/drive/My Drive/Colab Notebooks/test.csv')\n",
        "df_train"
      ],
      "metadata": {
        "id": "wnNGdbSVtoea",
        "colab": {
          "base_uri": "https://localhost:8080/",
          "height": 424
        },
        "outputId": "a3692bcf-2809-42bf-ce9e-473b152673e2"
      },
      "execution_count": null,
      "outputs": [
        {
          "output_type": "execute_result",
          "data": {
            "text/plain": [
              "                 datetime  season  holiday  workingday  weather   temp  \\\n",
              "0     2011-07-11 00:00:00       3        0           1        1  28.70   \n",
              "1     2012-05-18 22:00:00       2        0           1        1  22.96   \n",
              "2     2011-04-01 23:00:00       2        0           1        1  12.30   \n",
              "3     2012-09-16 09:00:00       3        0           0        1  23.78   \n",
              "4     2011-02-01 23:00:00       1        0           1        3   8.20   \n",
              "...                   ...     ...      ...         ...      ...    ...   \n",
              "8159  2012-01-14 02:00:00       1        0           0        1   6.56   \n",
              "8160  2011-12-10 09:00:00       4        0           0        1  11.48   \n",
              "8161  2011-12-18 16:00:00       4        0           0        1  11.48   \n",
              "8162  2011-02-19 07:00:00       1        0           0        1  15.58   \n",
              "8163  2012-05-02 07:00:00       2        0           1        2  22.14   \n",
              "\n",
              "       atemp  humidity  windspeed  pollution  sunlight   traffic  count  \n",
              "0     32.575        65    12.9980   5.354100    28.701  0.000000     35  \n",
              "1     26.515        52    22.0028  85.425233    22.961  0.004489    251  \n",
              "2     15.910        61     6.0032   2.040899    12.301  0.000242     53  \n",
              "3     27.275        60     8.9981  26.682772    23.781  0.004489    296  \n",
              "4      9.850        93    12.9980   5.851754     8.201  0.000000     16  \n",
              "...      ...       ...        ...        ...       ...       ...    ...  \n",
              "8159   8.335        47    11.0014  14.953355     6.561  0.004489     38  \n",
              "8160  12.880        61    19.0012   7.977025    11.481  0.000000    149  \n",
              "8161  13.635        48    16.9979   6.916512    11.481  0.015615    234  \n",
              "8162  19.695        17    35.0008   0.095445    15.581  0.000242     22  \n",
              "8163  25.760        88    12.9980  81.965417    22.141  0.015615    358  \n",
              "\n",
              "[8164 rows x 13 columns]"
            ],
            "text/html": [
              "\n",
              "  <div id=\"df-856f52d1-ffc0-4d4a-aade-730e54168f37\">\n",
              "    <div class=\"colab-df-container\">\n",
              "      <div>\n",
              "<style scoped>\n",
              "    .dataframe tbody tr th:only-of-type {\n",
              "        vertical-align: middle;\n",
              "    }\n",
              "\n",
              "    .dataframe tbody tr th {\n",
              "        vertical-align: top;\n",
              "    }\n",
              "\n",
              "    .dataframe thead th {\n",
              "        text-align: right;\n",
              "    }\n",
              "</style>\n",
              "<table border=\"1\" class=\"dataframe\">\n",
              "  <thead>\n",
              "    <tr style=\"text-align: right;\">\n",
              "      <th></th>\n",
              "      <th>datetime</th>\n",
              "      <th>season</th>\n",
              "      <th>holiday</th>\n",
              "      <th>workingday</th>\n",
              "      <th>weather</th>\n",
              "      <th>temp</th>\n",
              "      <th>atemp</th>\n",
              "      <th>humidity</th>\n",
              "      <th>windspeed</th>\n",
              "      <th>pollution</th>\n",
              "      <th>sunlight</th>\n",
              "      <th>traffic</th>\n",
              "      <th>count</th>\n",
              "    </tr>\n",
              "  </thead>\n",
              "  <tbody>\n",
              "    <tr>\n",
              "      <th>0</th>\n",
              "      <td>2011-07-11 00:00:00</td>\n",
              "      <td>3</td>\n",
              "      <td>0</td>\n",
              "      <td>1</td>\n",
              "      <td>1</td>\n",
              "      <td>28.70</td>\n",
              "      <td>32.575</td>\n",
              "      <td>65</td>\n",
              "      <td>12.9980</td>\n",
              "      <td>5.354100</td>\n",
              "      <td>28.701</td>\n",
              "      <td>0.000000</td>\n",
              "      <td>35</td>\n",
              "    </tr>\n",
              "    <tr>\n",
              "      <th>1</th>\n",
              "      <td>2012-05-18 22:00:00</td>\n",
              "      <td>2</td>\n",
              "      <td>0</td>\n",
              "      <td>1</td>\n",
              "      <td>1</td>\n",
              "      <td>22.96</td>\n",
              "      <td>26.515</td>\n",
              "      <td>52</td>\n",
              "      <td>22.0028</td>\n",
              "      <td>85.425233</td>\n",
              "      <td>22.961</td>\n",
              "      <td>0.004489</td>\n",
              "      <td>251</td>\n",
              "    </tr>\n",
              "    <tr>\n",
              "      <th>2</th>\n",
              "      <td>2011-04-01 23:00:00</td>\n",
              "      <td>2</td>\n",
              "      <td>0</td>\n",
              "      <td>1</td>\n",
              "      <td>1</td>\n",
              "      <td>12.30</td>\n",
              "      <td>15.910</td>\n",
              "      <td>61</td>\n",
              "      <td>6.0032</td>\n",
              "      <td>2.040899</td>\n",
              "      <td>12.301</td>\n",
              "      <td>0.000242</td>\n",
              "      <td>53</td>\n",
              "    </tr>\n",
              "    <tr>\n",
              "      <th>3</th>\n",
              "      <td>2012-09-16 09:00:00</td>\n",
              "      <td>3</td>\n",
              "      <td>0</td>\n",
              "      <td>0</td>\n",
              "      <td>1</td>\n",
              "      <td>23.78</td>\n",
              "      <td>27.275</td>\n",
              "      <td>60</td>\n",
              "      <td>8.9981</td>\n",
              "      <td>26.682772</td>\n",
              "      <td>23.781</td>\n",
              "      <td>0.004489</td>\n",
              "      <td>296</td>\n",
              "    </tr>\n",
              "    <tr>\n",
              "      <th>4</th>\n",
              "      <td>2011-02-01 23:00:00</td>\n",
              "      <td>1</td>\n",
              "      <td>0</td>\n",
              "      <td>1</td>\n",
              "      <td>3</td>\n",
              "      <td>8.20</td>\n",
              "      <td>9.850</td>\n",
              "      <td>93</td>\n",
              "      <td>12.9980</td>\n",
              "      <td>5.851754</td>\n",
              "      <td>8.201</td>\n",
              "      <td>0.000000</td>\n",
              "      <td>16</td>\n",
              "    </tr>\n",
              "    <tr>\n",
              "      <th>...</th>\n",
              "      <td>...</td>\n",
              "      <td>...</td>\n",
              "      <td>...</td>\n",
              "      <td>...</td>\n",
              "      <td>...</td>\n",
              "      <td>...</td>\n",
              "      <td>...</td>\n",
              "      <td>...</td>\n",
              "      <td>...</td>\n",
              "      <td>...</td>\n",
              "      <td>...</td>\n",
              "      <td>...</td>\n",
              "      <td>...</td>\n",
              "    </tr>\n",
              "    <tr>\n",
              "      <th>8159</th>\n",
              "      <td>2012-01-14 02:00:00</td>\n",
              "      <td>1</td>\n",
              "      <td>0</td>\n",
              "      <td>0</td>\n",
              "      <td>1</td>\n",
              "      <td>6.56</td>\n",
              "      <td>8.335</td>\n",
              "      <td>47</td>\n",
              "      <td>11.0014</td>\n",
              "      <td>14.953355</td>\n",
              "      <td>6.561</td>\n",
              "      <td>0.004489</td>\n",
              "      <td>38</td>\n",
              "    </tr>\n",
              "    <tr>\n",
              "      <th>8160</th>\n",
              "      <td>2011-12-10 09:00:00</td>\n",
              "      <td>4</td>\n",
              "      <td>0</td>\n",
              "      <td>0</td>\n",
              "      <td>1</td>\n",
              "      <td>11.48</td>\n",
              "      <td>12.880</td>\n",
              "      <td>61</td>\n",
              "      <td>19.0012</td>\n",
              "      <td>7.977025</td>\n",
              "      <td>11.481</td>\n",
              "      <td>0.000000</td>\n",
              "      <td>149</td>\n",
              "    </tr>\n",
              "    <tr>\n",
              "      <th>8161</th>\n",
              "      <td>2011-12-18 16:00:00</td>\n",
              "      <td>4</td>\n",
              "      <td>0</td>\n",
              "      <td>0</td>\n",
              "      <td>1</td>\n",
              "      <td>11.48</td>\n",
              "      <td>13.635</td>\n",
              "      <td>48</td>\n",
              "      <td>16.9979</td>\n",
              "      <td>6.916512</td>\n",
              "      <td>11.481</td>\n",
              "      <td>0.015615</td>\n",
              "      <td>234</td>\n",
              "    </tr>\n",
              "    <tr>\n",
              "      <th>8162</th>\n",
              "      <td>2011-02-19 07:00:00</td>\n",
              "      <td>1</td>\n",
              "      <td>0</td>\n",
              "      <td>0</td>\n",
              "      <td>1</td>\n",
              "      <td>15.58</td>\n",
              "      <td>19.695</td>\n",
              "      <td>17</td>\n",
              "      <td>35.0008</td>\n",
              "      <td>0.095445</td>\n",
              "      <td>15.581</td>\n",
              "      <td>0.000242</td>\n",
              "      <td>22</td>\n",
              "    </tr>\n",
              "    <tr>\n",
              "      <th>8163</th>\n",
              "      <td>2012-05-02 07:00:00</td>\n",
              "      <td>2</td>\n",
              "      <td>0</td>\n",
              "      <td>1</td>\n",
              "      <td>2</td>\n",
              "      <td>22.14</td>\n",
              "      <td>25.760</td>\n",
              "      <td>88</td>\n",
              "      <td>12.9980</td>\n",
              "      <td>81.965417</td>\n",
              "      <td>22.141</td>\n",
              "      <td>0.015615</td>\n",
              "      <td>358</td>\n",
              "    </tr>\n",
              "  </tbody>\n",
              "</table>\n",
              "<p>8164 rows × 13 columns</p>\n",
              "</div>\n",
              "      <button class=\"colab-df-convert\" onclick=\"convertToInteractive('df-856f52d1-ffc0-4d4a-aade-730e54168f37')\"\n",
              "              title=\"Convert this dataframe to an interactive table.\"\n",
              "              style=\"display:none;\">\n",
              "        \n",
              "  <svg xmlns=\"http://www.w3.org/2000/svg\" height=\"24px\"viewBox=\"0 0 24 24\"\n",
              "       width=\"24px\">\n",
              "    <path d=\"M0 0h24v24H0V0z\" fill=\"none\"/>\n",
              "    <path d=\"M18.56 5.44l.94 2.06.94-2.06 2.06-.94-2.06-.94-.94-2.06-.94 2.06-2.06.94zm-11 1L8.5 8.5l.94-2.06 2.06-.94-2.06-.94L8.5 2.5l-.94 2.06-2.06.94zm10 10l.94 2.06.94-2.06 2.06-.94-2.06-.94-.94-2.06-.94 2.06-2.06.94z\"/><path d=\"M17.41 7.96l-1.37-1.37c-.4-.4-.92-.59-1.43-.59-.52 0-1.04.2-1.43.59L10.3 9.45l-7.72 7.72c-.78.78-.78 2.05 0 2.83L4 21.41c.39.39.9.59 1.41.59.51 0 1.02-.2 1.41-.59l7.78-7.78 2.81-2.81c.8-.78.8-2.07 0-2.86zM5.41 20L4 18.59l7.72-7.72 1.47 1.35L5.41 20z\"/>\n",
              "  </svg>\n",
              "      </button>\n",
              "      \n",
              "  <style>\n",
              "    .colab-df-container {\n",
              "      display:flex;\n",
              "      flex-wrap:wrap;\n",
              "      gap: 12px;\n",
              "    }\n",
              "\n",
              "    .colab-df-convert {\n",
              "      background-color: #E8F0FE;\n",
              "      border: none;\n",
              "      border-radius: 50%;\n",
              "      cursor: pointer;\n",
              "      display: none;\n",
              "      fill: #1967D2;\n",
              "      height: 32px;\n",
              "      padding: 0 0 0 0;\n",
              "      width: 32px;\n",
              "    }\n",
              "\n",
              "    .colab-df-convert:hover {\n",
              "      background-color: #E2EBFA;\n",
              "      box-shadow: 0px 1px 2px rgba(60, 64, 67, 0.3), 0px 1px 3px 1px rgba(60, 64, 67, 0.15);\n",
              "      fill: #174EA6;\n",
              "    }\n",
              "\n",
              "    [theme=dark] .colab-df-convert {\n",
              "      background-color: #3B4455;\n",
              "      fill: #D2E3FC;\n",
              "    }\n",
              "\n",
              "    [theme=dark] .colab-df-convert:hover {\n",
              "      background-color: #434B5C;\n",
              "      box-shadow: 0px 1px 3px 1px rgba(0, 0, 0, 0.15);\n",
              "      filter: drop-shadow(0px 1px 2px rgba(0, 0, 0, 0.3));\n",
              "      fill: #FFFFFF;\n",
              "    }\n",
              "  </style>\n",
              "\n",
              "      <script>\n",
              "        const buttonEl =\n",
              "          document.querySelector('#df-856f52d1-ffc0-4d4a-aade-730e54168f37 button.colab-df-convert');\n",
              "        buttonEl.style.display =\n",
              "          google.colab.kernel.accessAllowed ? 'block' : 'none';\n",
              "\n",
              "        async function convertToInteractive(key) {\n",
              "          const element = document.querySelector('#df-856f52d1-ffc0-4d4a-aade-730e54168f37');\n",
              "          const dataTable =\n",
              "            await google.colab.kernel.invokeFunction('convertToInteractive',\n",
              "                                                     [key], {});\n",
              "          if (!dataTable) return;\n",
              "\n",
              "          const docLinkHtml = 'Like what you see? Visit the ' +\n",
              "            '<a target=\"_blank\" href=https://colab.research.google.com/notebooks/data_table.ipynb>data table notebook</a>'\n",
              "            + ' to learn more about interactive tables.';\n",
              "          element.innerHTML = '';\n",
              "          dataTable['output_type'] = 'display_data';\n",
              "          await google.colab.output.renderOutput(dataTable, element);\n",
              "          const docLink = document.createElement('div');\n",
              "          docLink.innerHTML = docLinkHtml;\n",
              "          element.appendChild(docLink);\n",
              "        }\n",
              "      </script>\n",
              "    </div>\n",
              "  </div>\n",
              "  "
            ]
          },
          "metadata": {},
          "execution_count": 2
        }
      ]
    },
    {
      "cell_type": "markdown",
      "source": [
        "# Exploring the data"
      ],
      "metadata": {
        "id": "KugVJFUpugFr"
      }
    },
    {
      "cell_type": "markdown",
      "source": [
        "Description of the data"
      ],
      "metadata": {
        "id": "ah3Hg9o-ur73"
      }
    },
    {
      "cell_type": "code",
      "source": [
        "df_train.describe()"
      ],
      "metadata": {
        "id": "O02l8CsNuRuy",
        "colab": {
          "base_uri": "https://localhost:8080/",
          "height": 364
        },
        "outputId": "2dac8ccc-2292-4356-fe92-a1e8e9776665"
      },
      "execution_count": null,
      "outputs": [
        {
          "output_type": "execute_result",
          "data": {
            "text/plain": [
              "            season      holiday   workingday      weather         temp  \\\n",
              "count  8164.000000  8164.000000  8164.000000  8164.000000  8164.000000   \n",
              "mean      2.510289     0.029397     0.683244     1.415483    20.244980   \n",
              "std       1.117178     0.168928     0.465240     0.631242     7.796018   \n",
              "min       1.000000     0.000000     0.000000     1.000000     0.820000   \n",
              "25%       2.000000     0.000000     0.000000     1.000000    13.940000   \n",
              "50%       3.000000     0.000000     1.000000     1.000000    20.500000   \n",
              "75%       4.000000     0.000000     1.000000     2.000000    26.240000   \n",
              "max       4.000000     1.000000     1.000000     4.000000    41.000000   \n",
              "\n",
              "             atemp     humidity    windspeed    pollution     sunlight  \\\n",
              "count  8164.000000  8164.000000  8164.000000  8164.000000  8164.000000   \n",
              "mean     23.670160    61.835130    12.791334    47.152120    20.245980   \n",
              "std       8.468725    19.255791     8.213914    72.882602     7.796018   \n",
              "min       0.760000     0.000000     0.000000     0.000304     0.821000   \n",
              "25%      16.665000    47.000000     7.001500     3.693188    13.941000   \n",
              "50%      24.240000    62.000000    12.998000    17.684113    20.501000   \n",
              "75%      31.060000    77.000000    16.997900    59.257746    26.241000   \n",
              "max      45.455000   100.000000    56.996900   754.304876    41.001000   \n",
              "\n",
              "           traffic        count  \n",
              "count  8164.000000  8164.000000  \n",
              "mean      0.004986   191.339784  \n",
              "std       0.006319   181.143178  \n",
              "min       0.000000     1.000000  \n",
              "25%       0.000000    41.000000  \n",
              "50%       0.000242   145.000000  \n",
              "75%       0.004489   285.000000  \n",
              "max       0.015615   970.000000  "
            ],
            "text/html": [
              "\n",
              "  <div id=\"df-25e81f88-330c-4b31-b8af-2febb4f07af3\">\n",
              "    <div class=\"colab-df-container\">\n",
              "      <div>\n",
              "<style scoped>\n",
              "    .dataframe tbody tr th:only-of-type {\n",
              "        vertical-align: middle;\n",
              "    }\n",
              "\n",
              "    .dataframe tbody tr th {\n",
              "        vertical-align: top;\n",
              "    }\n",
              "\n",
              "    .dataframe thead th {\n",
              "        text-align: right;\n",
              "    }\n",
              "</style>\n",
              "<table border=\"1\" class=\"dataframe\">\n",
              "  <thead>\n",
              "    <tr style=\"text-align: right;\">\n",
              "      <th></th>\n",
              "      <th>season</th>\n",
              "      <th>holiday</th>\n",
              "      <th>workingday</th>\n",
              "      <th>weather</th>\n",
              "      <th>temp</th>\n",
              "      <th>atemp</th>\n",
              "      <th>humidity</th>\n",
              "      <th>windspeed</th>\n",
              "      <th>pollution</th>\n",
              "      <th>sunlight</th>\n",
              "      <th>traffic</th>\n",
              "      <th>count</th>\n",
              "    </tr>\n",
              "  </thead>\n",
              "  <tbody>\n",
              "    <tr>\n",
              "      <th>count</th>\n",
              "      <td>8164.000000</td>\n",
              "      <td>8164.000000</td>\n",
              "      <td>8164.000000</td>\n",
              "      <td>8164.000000</td>\n",
              "      <td>8164.000000</td>\n",
              "      <td>8164.000000</td>\n",
              "      <td>8164.000000</td>\n",
              "      <td>8164.000000</td>\n",
              "      <td>8164.000000</td>\n",
              "      <td>8164.000000</td>\n",
              "      <td>8164.000000</td>\n",
              "      <td>8164.000000</td>\n",
              "    </tr>\n",
              "    <tr>\n",
              "      <th>mean</th>\n",
              "      <td>2.510289</td>\n",
              "      <td>0.029397</td>\n",
              "      <td>0.683244</td>\n",
              "      <td>1.415483</td>\n",
              "      <td>20.244980</td>\n",
              "      <td>23.670160</td>\n",
              "      <td>61.835130</td>\n",
              "      <td>12.791334</td>\n",
              "      <td>47.152120</td>\n",
              "      <td>20.245980</td>\n",
              "      <td>0.004986</td>\n",
              "      <td>191.339784</td>\n",
              "    </tr>\n",
              "    <tr>\n",
              "      <th>std</th>\n",
              "      <td>1.117178</td>\n",
              "      <td>0.168928</td>\n",
              "      <td>0.465240</td>\n",
              "      <td>0.631242</td>\n",
              "      <td>7.796018</td>\n",
              "      <td>8.468725</td>\n",
              "      <td>19.255791</td>\n",
              "      <td>8.213914</td>\n",
              "      <td>72.882602</td>\n",
              "      <td>7.796018</td>\n",
              "      <td>0.006319</td>\n",
              "      <td>181.143178</td>\n",
              "    </tr>\n",
              "    <tr>\n",
              "      <th>min</th>\n",
              "      <td>1.000000</td>\n",
              "      <td>0.000000</td>\n",
              "      <td>0.000000</td>\n",
              "      <td>1.000000</td>\n",
              "      <td>0.820000</td>\n",
              "      <td>0.760000</td>\n",
              "      <td>0.000000</td>\n",
              "      <td>0.000000</td>\n",
              "      <td>0.000304</td>\n",
              "      <td>0.821000</td>\n",
              "      <td>0.000000</td>\n",
              "      <td>1.000000</td>\n",
              "    </tr>\n",
              "    <tr>\n",
              "      <th>25%</th>\n",
              "      <td>2.000000</td>\n",
              "      <td>0.000000</td>\n",
              "      <td>0.000000</td>\n",
              "      <td>1.000000</td>\n",
              "      <td>13.940000</td>\n",
              "      <td>16.665000</td>\n",
              "      <td>47.000000</td>\n",
              "      <td>7.001500</td>\n",
              "      <td>3.693188</td>\n",
              "      <td>13.941000</td>\n",
              "      <td>0.000000</td>\n",
              "      <td>41.000000</td>\n",
              "    </tr>\n",
              "    <tr>\n",
              "      <th>50%</th>\n",
              "      <td>3.000000</td>\n",
              "      <td>0.000000</td>\n",
              "      <td>1.000000</td>\n",
              "      <td>1.000000</td>\n",
              "      <td>20.500000</td>\n",
              "      <td>24.240000</td>\n",
              "      <td>62.000000</td>\n",
              "      <td>12.998000</td>\n",
              "      <td>17.684113</td>\n",
              "      <td>20.501000</td>\n",
              "      <td>0.000242</td>\n",
              "      <td>145.000000</td>\n",
              "    </tr>\n",
              "    <tr>\n",
              "      <th>75%</th>\n",
              "      <td>4.000000</td>\n",
              "      <td>0.000000</td>\n",
              "      <td>1.000000</td>\n",
              "      <td>2.000000</td>\n",
              "      <td>26.240000</td>\n",
              "      <td>31.060000</td>\n",
              "      <td>77.000000</td>\n",
              "      <td>16.997900</td>\n",
              "      <td>59.257746</td>\n",
              "      <td>26.241000</td>\n",
              "      <td>0.004489</td>\n",
              "      <td>285.000000</td>\n",
              "    </tr>\n",
              "    <tr>\n",
              "      <th>max</th>\n",
              "      <td>4.000000</td>\n",
              "      <td>1.000000</td>\n",
              "      <td>1.000000</td>\n",
              "      <td>4.000000</td>\n",
              "      <td>41.000000</td>\n",
              "      <td>45.455000</td>\n",
              "      <td>100.000000</td>\n",
              "      <td>56.996900</td>\n",
              "      <td>754.304876</td>\n",
              "      <td>41.001000</td>\n",
              "      <td>0.015615</td>\n",
              "      <td>970.000000</td>\n",
              "    </tr>\n",
              "  </tbody>\n",
              "</table>\n",
              "</div>\n",
              "      <button class=\"colab-df-convert\" onclick=\"convertToInteractive('df-25e81f88-330c-4b31-b8af-2febb4f07af3')\"\n",
              "              title=\"Convert this dataframe to an interactive table.\"\n",
              "              style=\"display:none;\">\n",
              "        \n",
              "  <svg xmlns=\"http://www.w3.org/2000/svg\" height=\"24px\"viewBox=\"0 0 24 24\"\n",
              "       width=\"24px\">\n",
              "    <path d=\"M0 0h24v24H0V0z\" fill=\"none\"/>\n",
              "    <path d=\"M18.56 5.44l.94 2.06.94-2.06 2.06-.94-2.06-.94-.94-2.06-.94 2.06-2.06.94zm-11 1L8.5 8.5l.94-2.06 2.06-.94-2.06-.94L8.5 2.5l-.94 2.06-2.06.94zm10 10l.94 2.06.94-2.06 2.06-.94-2.06-.94-.94-2.06-.94 2.06-2.06.94z\"/><path d=\"M17.41 7.96l-1.37-1.37c-.4-.4-.92-.59-1.43-.59-.52 0-1.04.2-1.43.59L10.3 9.45l-7.72 7.72c-.78.78-.78 2.05 0 2.83L4 21.41c.39.39.9.59 1.41.59.51 0 1.02-.2 1.41-.59l7.78-7.78 2.81-2.81c.8-.78.8-2.07 0-2.86zM5.41 20L4 18.59l7.72-7.72 1.47 1.35L5.41 20z\"/>\n",
              "  </svg>\n",
              "      </button>\n",
              "      \n",
              "  <style>\n",
              "    .colab-df-container {\n",
              "      display:flex;\n",
              "      flex-wrap:wrap;\n",
              "      gap: 12px;\n",
              "    }\n",
              "\n",
              "    .colab-df-convert {\n",
              "      background-color: #E8F0FE;\n",
              "      border: none;\n",
              "      border-radius: 50%;\n",
              "      cursor: pointer;\n",
              "      display: none;\n",
              "      fill: #1967D2;\n",
              "      height: 32px;\n",
              "      padding: 0 0 0 0;\n",
              "      width: 32px;\n",
              "    }\n",
              "\n",
              "    .colab-df-convert:hover {\n",
              "      background-color: #E2EBFA;\n",
              "      box-shadow: 0px 1px 2px rgba(60, 64, 67, 0.3), 0px 1px 3px 1px rgba(60, 64, 67, 0.15);\n",
              "      fill: #174EA6;\n",
              "    }\n",
              "\n",
              "    [theme=dark] .colab-df-convert {\n",
              "      background-color: #3B4455;\n",
              "      fill: #D2E3FC;\n",
              "    }\n",
              "\n",
              "    [theme=dark] .colab-df-convert:hover {\n",
              "      background-color: #434B5C;\n",
              "      box-shadow: 0px 1px 3px 1px rgba(0, 0, 0, 0.15);\n",
              "      filter: drop-shadow(0px 1px 2px rgba(0, 0, 0, 0.3));\n",
              "      fill: #FFFFFF;\n",
              "    }\n",
              "  </style>\n",
              "\n",
              "      <script>\n",
              "        const buttonEl =\n",
              "          document.querySelector('#df-25e81f88-330c-4b31-b8af-2febb4f07af3 button.colab-df-convert');\n",
              "        buttonEl.style.display =\n",
              "          google.colab.kernel.accessAllowed ? 'block' : 'none';\n",
              "\n",
              "        async function convertToInteractive(key) {\n",
              "          const element = document.querySelector('#df-25e81f88-330c-4b31-b8af-2febb4f07af3');\n",
              "          const dataTable =\n",
              "            await google.colab.kernel.invokeFunction('convertToInteractive',\n",
              "                                                     [key], {});\n",
              "          if (!dataTable) return;\n",
              "\n",
              "          const docLinkHtml = 'Like what you see? Visit the ' +\n",
              "            '<a target=\"_blank\" href=https://colab.research.google.com/notebooks/data_table.ipynb>data table notebook</a>'\n",
              "            + ' to learn more about interactive tables.';\n",
              "          element.innerHTML = '';\n",
              "          dataTable['output_type'] = 'display_data';\n",
              "          await google.colab.output.renderOutput(dataTable, element);\n",
              "          const docLink = document.createElement('div');\n",
              "          docLink.innerHTML = docLinkHtml;\n",
              "          element.appendChild(docLink);\n",
              "        }\n",
              "      </script>\n",
              "    </div>\n",
              "  </div>\n",
              "  "
            ]
          },
          "metadata": {},
          "execution_count": 3
        }
      ]
    },
    {
      "cell_type": "code",
      "source": [
        "df_train.info()"
      ],
      "metadata": {
        "id": "bjw8u4klu0bL",
        "colab": {
          "base_uri": "https://localhost:8080/"
        },
        "outputId": "7a25d8bf-22a4-420e-fcd6-f2ea6e777746"
      },
      "execution_count": null,
      "outputs": [
        {
          "output_type": "stream",
          "name": "stdout",
          "text": [
            "<class 'pandas.core.frame.DataFrame'>\n",
            "RangeIndex: 8164 entries, 0 to 8163\n",
            "Data columns (total 13 columns):\n",
            " #   Column      Non-Null Count  Dtype  \n",
            "---  ------      --------------  -----  \n",
            " 0   datetime    8164 non-null   object \n",
            " 1   season      8164 non-null   int64  \n",
            " 2   holiday     8164 non-null   int64  \n",
            " 3   workingday  8164 non-null   int64  \n",
            " 4   weather     8164 non-null   int64  \n",
            " 5   temp        8164 non-null   float64\n",
            " 6   atemp       8164 non-null   float64\n",
            " 7   humidity    8164 non-null   int64  \n",
            " 8   windspeed   8164 non-null   float64\n",
            " 9   pollution   8164 non-null   float64\n",
            " 10  sunlight    8164 non-null   float64\n",
            " 11  traffic     8164 non-null   float64\n",
            " 12  count       8164 non-null   int64  \n",
            "dtypes: float64(6), int64(6), object(1)\n",
            "memory usage: 829.3+ KB\n"
          ]
        }
      ]
    },
    {
      "cell_type": "markdown",
      "source": [
        "We can see there are no null values in the train data.\n",
        "In addition we can see that the only non-numeric column is 'datetime'.\n",
        "so we will handle this by generating 4 numeric columns: year, month, hour and dayofweek."
      ],
      "metadata": {
        "id": "H9yuEr_hu6oa"
      }
    },
    {
      "cell_type": "code",
      "source": [
        "New_features_created = ['datetime_year','datetime_month','datetime_hour','datetime_dayofweek']#for the result file\n",
        "Features_dropped = ['datetime']#for the result file\n",
        "def time_process(df):#function that split daytime to 4 time columns\n",
        "  df['datetime'] = pd.to_datetime(df['datetime'], errors='coerce')#converting from object to datetime\n",
        "  df['datetime_year'] = df['datetime'].dt.year\n",
        "  df['datetime_month'] = df['datetime'].dt.month\n",
        "  df['datetime_hour'] = df['datetime'].dt.hour\n",
        "  df['datetime_dayofweek'] = df['datetime'].dt.dayofweek\n",
        "  df = df.drop(['datetime'], axis=1)\n",
        "  return df\n",
        "\n",
        "df_train = time_process(df_train)"
      ],
      "metadata": {
        "id": "UBjV56s7vMWN"
      },
      "execution_count": null,
      "outputs": []
    },
    {
      "cell_type": "markdown",
      "source": [
        "## Visualization"
      ],
      "metadata": {
        "id": "v3opj9K7vzvv"
      }
    },
    {
      "cell_type": "markdown",
      "source": [
        "Plot corr matrix to find out any strong correlation between the features."
      ],
      "metadata": {
        "id": "neOgCpHKv5Mb"
      }
    },
    {
      "cell_type": "code",
      "source": [
        "corr_df = df_train.corr()\n",
        "mask = np.zeros_like(corr_df, dtype=bool)\n",
        "mask[np.triu_indices_from(mask, k=1)] = True\n",
        "\n",
        "fig, ax = plt.subplots(figsize=(16, 12))\n",
        "plt.title('Pearson Correlation Heatmap', fontsize=23)\n",
        "\n",
        "sns.heatmap(corr_df, linewidths=0.25, vmax=1.0, square=True ,\n",
        "            linecolor='w', annot=True, mask=mask)"
      ],
      "metadata": {
        "id": "7ZKIXyQAvoPf",
        "colab": {
          "base_uri": "https://localhost:8080/",
          "height": 835
        },
        "outputId": "9d6b7a18-7ac8-4841-86b1-9356265da3a3"
      },
      "execution_count": null,
      "outputs": [
        {
          "output_type": "execute_result",
          "data": {
            "text/plain": [
              "<matplotlib.axes._subplots.AxesSubplot at 0x7f8c7071fb90>"
            ]
          },
          "metadata": {},
          "execution_count": 6
        },
        {
          "output_type": "display_data",
          "data": {
            "text/plain": [
              "<Figure size 1152x864 with 2 Axes>"
            ],
            "image/png": "[encoded data removed]"
          },
          "metadata": {
            "needs_background": "light"
          }
        }
      ]
    },
    {
      "cell_type": "markdown",
      "source": [
        "atemp feature is the average of temp feature, meaning it's a mathemathical manipulation of it, so we dropped temp.\n",
        "In addition, seasons consist of months, so we decided to drop the season column."
      ],
      "metadata": {
        "id": "Krr61fEyw8G8"
      }
    },
    {
      "cell_type": "code",
      "source": [
        "df_train.drop(['temp','season'],axis=1,inplace=True)\n",
        "#for the result file\n",
        "Features_dropped.append('temp')\n",
        "Features_dropped.append('season')"
      ],
      "metadata": {
        "id": "8WMgu_TqxWlJ"
      },
      "execution_count": null,
      "outputs": []
    },
    {
      "cell_type": "markdown",
      "source": [
        "let's see the distribution of every column"
      ],
      "metadata": {
        "id": "xFlDJMYyxvhF"
      }
    },
    {
      "cell_type": "code",
      "source": [
        "df_train.iloc[:,1:].hist(figsize=(20,15))"
      ],
      "metadata": {
        "id": "f86BP4Zwxr98",
        "colab": {
          "base_uri": "https://localhost:8080/",
          "height": 1000
        },
        "outputId": "7eef5e27-1fe6-4fa5-fe2b-577b4463a503"
      },
      "execution_count": null,
      "outputs": [
        {
          "output_type": "execute_result",
          "data": {
            "text/plain": [
              "array([[<matplotlib.axes._subplots.AxesSubplot object at 0x7f8c6c015c90>,\n",
              "        <matplotlib.axes._subplots.AxesSubplot object at 0x7f8c6bfc2250>,\n",
              "        <matplotlib.axes._subplots.AxesSubplot object at 0x7f8c6bf74850>,\n",
              "        <matplotlib.axes._subplots.AxesSubplot object at 0x7f8c6bf28e50>],\n",
              "       [<matplotlib.axes._subplots.AxesSubplot object at 0x7f8c6beef490>,\n",
              "        <matplotlib.axes._subplots.AxesSubplot object at 0x7f8c6bea7a90>,\n",
              "        <matplotlib.axes._subplots.AxesSubplot object at 0x7f8c6be69150>,\n",
              "        <matplotlib.axes._subplots.AxesSubplot object at 0x7f8c6be9e690>],\n",
              "       [<matplotlib.axes._subplots.AxesSubplot object at 0x7f8c6be9e6d0>,\n",
              "        <matplotlib.axes._subplots.AxesSubplot object at 0x7f8c6be56dd0>,\n",
              "        <matplotlib.axes._subplots.AxesSubplot object at 0x7f8c6bdd0910>,\n",
              "        <matplotlib.axes._subplots.AxesSubplot object at 0x7f8c6bd89f10>],\n",
              "       [<matplotlib.axes._subplots.AxesSubplot object at 0x7f8c6bd4e550>,\n",
              "        <matplotlib.axes._subplots.AxesSubplot object at 0x7f8c6bd02b50>,\n",
              "        <matplotlib.axes._subplots.AxesSubplot object at 0x7f8c6bcc7190>,\n",
              "        <matplotlib.axes._subplots.AxesSubplot object at 0x7f8c6bc7f790>]],\n",
              "      dtype=object)"
            ]
          },
          "metadata": {},
          "execution_count": 8
        },
        {
          "output_type": "display_data",
          "data": {
            "text/plain": [
              "<Figure size 1440x1080 with 16 Axes>"
            ],
            "image/png": "[encoded data removed]"
          },
          "metadata": {
            "needs_background": "light"
          }
        }
      ]
    },
    {
      "cell_type": "markdown",
      "source": [
        "We can see that \"atemp\", \"humidity\" and \"sunlight\" columns are near to Normally distributed.\n"
      ],
      "metadata": {
        "id": "Mg04Zkv7FB-J"
      }
    },
    {
      "cell_type": "markdown",
      "source": [
        "Comparing the amount of bicycle rentals over the months and years"
      ],
      "metadata": {
        "id": "b04khuAfH2Eg"
      }
    },
    {
      "cell_type": "code",
      "source": [
        "fig,(ax1,ax2)= plt.subplots(nrows=2)\n",
        "fig.set_size_inches(6,10)\n",
        "monthAggregated = pd.DataFrame(df_train.groupby(\"datetime_month\")[\"count\"].mean()).reset_index()\n",
        "monthSorted = monthAggregated.sort_values(by=\"count\",ascending=False)\n",
        "sns.barplot(data=monthSorted,x=\"datetime_month\",y=\"count\",ax=ax1)\n",
        "ax1.set(xlabel='Month', ylabel='Avearage Count',title=\"Average Count By Month\")\n",
        "\n",
        "hourAggregated = pd.DataFrame(df_train.groupby([\"datetime_hour\",\"datetime_year\"],sort=True)[\"count\"].mean()).reset_index()\n",
        "sns.pointplot(x=hourAggregated[\"datetime_hour\"], y=hourAggregated[\"count\"],hue=hourAggregated[\"datetime_year\"], data=hourAggregated, join=True,ax=ax2)\n",
        "ax2.set(xlabel='Hour Of The Day', ylabel='Users Count',title=\"Average Users Count By Hour Of The Day Across year\",label='big')"
      ],
      "metadata": {
        "id": "d7wdIjWey6vj",
        "colab": {
          "base_uri": "https://localhost:8080/",
          "height": 690
        },
        "outputId": "83ce64fb-567e-4fec-c014-055f4fc2ca43"
      },
      "execution_count": null,
      "outputs": [
        {
          "output_type": "execute_result",
          "data": {
            "text/plain": [
              "[Text(0, 0.5, 'Users Count'),\n",
              " Text(0.5, 0, 'Hour Of The Day'),\n",
              " Text(0.5, 1.0, 'Average Users Count By Hour Of The Day Across year'),\n",
              " None]"
            ]
          },
          "metadata": {},
          "execution_count": 9
        },
        {
          "output_type": "display_data",
          "data": {
            "text/plain": [
              "<Figure size 432x720 with 2 Axes>"
            ],
            "image/png": "[encoded data removed]"
          },
          "metadata": {
            "needs_background": "light"
          }
        }
      ]
    },
    {
      "cell_type": "markdown",
      "source": [
        "We can see that the average bicycles rentals is higher in months 6-9.\n",
        "\n",
        "In addition, it can be seen that in 2012 more bicycles were rented than in 2011. "
      ],
      "metadata": {
        "id": "xPmoO-ipvEFa"
      }
    },
    {
      "cell_type": "markdown",
      "source": [
        "# Model selection"
      ],
      "metadata": {
        "id": "9mKwKL-NzcrB"
      }
    },
    {
      "cell_type": "markdown",
      "source": [
        "Since we replaced **datetime** column to numeric categorical columns: **'datetime_year', 'datetime_month', 'datetime_hour', 'datetime_dayofweek'**,\n",
        "We chose our models mostly because their ability to natively handle numeric categorical variables. "
      ],
      "metadata": {
        "id": "PPC-4F3_qzpG"
      }
    },
    {
      "cell_type": "markdown",
      "source": [
        "### Random Forest"
      ],
      "metadata": {
        "id": "4cwXYN7vzoRE"
      }
    },
    {
      "cell_type": "code",
      "source": [
        "def run_random_forest(x_train, y_train):\n",
        "  rf = RandomForestRegressor(n_estimators=500, random_state=42)\n",
        "  tuned_rf = GridSearchCV(estimator=rf, \n",
        "                          param_grid={'max_features': ['auto', 'sqrt', 'log2', 1/3]},\n",
        "                          scoring='neg_mean_squared_error',\n",
        "                          cv=3, \n",
        "                          verbose=3,\n",
        "                          refit=True)\n",
        "  tuned_rf.fit(x_train, y_train)\n",
        "  return tuned_rf"
      ],
      "metadata": {
        "id": "ZEWnrcdfzlEB"
      },
      "execution_count": null,
      "outputs": []
    },
    {
      "cell_type": "markdown",
      "source": [
        "### XGB"
      ],
      "metadata": {
        "id": "CkfjO-NVzse7"
      }
    },
    {
      "cell_type": "code",
      "source": [
        "def run_XGB(x_train, y_train):\n",
        "    xgb1 = XGBRegressor(n_estimators=500, random_state=42)\n",
        "    parameters = {\n",
        "                'learning_rate': [.03, 0.05, .07], #so called `eta` value\n",
        "                'max_depth': [3,5,7]}\n",
        "\n",
        "    xgb_grid = GridSearchCV(xgb1,\n",
        "                            parameters,\n",
        "                            cv = 3,\n",
        "                            scoring='neg_mean_squared_error',\n",
        "                            verbose=3)\n",
        "\n",
        "    xgb_grid.fit(x_train,y_train)\n",
        "    return xgb_grid"
      ],
      "metadata": {
        "id": "GEM-Qg3bzv_7"
      },
      "execution_count": null,
      "outputs": []
    },
    {
      "cell_type": "markdown",
      "source": [
        "### Decision Tree"
      ],
      "metadata": {
        "id": "9sOPyr1Rz2sq"
      }
    },
    {
      "cell_type": "code",
      "source": [
        "def run_decision_tree(x_train, y_train):\n",
        "  dt = DecisionTreeRegressor(random_state=42)\n",
        "  tuned_dt = GridSearchCV(estimator=dt, \n",
        "                          param_grid={'max_features': ['auto', 'sqrt', 'log2', 1/3]},\n",
        "                          scoring='neg_mean_squared_error',\n",
        "                          cv=3, \n",
        "                          verbose=3)\n",
        "  tuned_dt.fit(x_train, y_train)\n",
        "  return tuned_dt"
      ],
      "metadata": {
        "id": "bvBh9YZdz2bW"
      },
      "execution_count": null,
      "outputs": []
    },
    {
      "cell_type": "markdown",
      "source": [
        "# Run all models\n"
      ],
      "metadata": {
        "id": "y76KZMDb0JMk"
      }
    },
    {
      "cell_type": "code",
      "source": [
        "X_train = df_train.drop(['count'], axis=1)\n",
        "Y_train = df_train['count']"
      ],
      "metadata": {
        "id": "6DDNn4140eQr"
      },
      "execution_count": null,
      "outputs": []
    },
    {
      "cell_type": "code",
      "source": [
        "def run_all_models(x, y):\n",
        "  models_dict = {}\n",
        "\n",
        "  start_Random_forest = time.time()\n",
        "  models_dict['Random forest'] = run_random_forest(x, y)\n",
        "  end_Random_forest = time.time()\n",
        "  total_time_random_forest = end_Random_forest - start_Random_forest\n",
        "\n",
        "  start_XGB = time.time()\n",
        "  models_dict['XGB'] = run_XGB(x, y)\n",
        "  end_XGB = time.time()\n",
        "  total_time_XGB = end_XGB - start_XGB\n",
        "\n",
        "  start_decision_tree = time.time()\n",
        "  models_dict['decision tree'] = run_decision_tree(x, y)\n",
        "  end_decision_tree = time.time()\n",
        "  total_time_decision_tree = end_decision_tree - start_decision_tree\n",
        "\n",
        "  return models_dict, total_time_random_forest, total_time_XGB, total_time_decision_tree"
      ],
      "metadata": {
        "id": "-ch2M5hA0D5m"
      },
      "execution_count": null,
      "outputs": []
    },
    {
      "cell_type": "code",
      "source": [
        "models, total_time_random_forest, total_time_XGB, total_time_decision_tree = run_all_models(X_train, Y_train.values.ravel())\n",
        "dict_time={}\n",
        "dict_time['Random forest']=total_time_random_forest\n",
        "dict_time['decision tree']=total_time_decision_tree\n",
        "dict_time['XGB']=total_time_XGB"
      ],
      "metadata": {
        "id": "wnJcDx8T0hhP",
        "colab": {
          "base_uri": "https://localhost:8080/"
        },
        "outputId": "ebf775dd-c965-4c73-d719-c1c2bf9e0418"
      },
      "execution_count": null,
      "outputs": [
        {
          "output_type": "stream",
          "name": "stdout",
          "text": [
            "Fitting 3 folds for each of 4 candidates, totalling 12 fits\n",
            "[CV 1/3] END .............max_features=auto;, score=-2851.449 total time=  10.1s\n",
            "[CV 2/3] END .............max_features=auto;, score=-3299.377 total time=  10.8s\n",
            "[CV 3/3] END .............max_features=auto;, score=-3059.956 total time=  10.8s\n",
            "[CV 1/3] END .............max_features=sqrt;, score=-5422.906 total time=   3.4s\n",
            "[CV 2/3] END .............max_features=sqrt;, score=-5830.186 total time=   3.4s\n",
            "[CV 3/3] END .............max_features=sqrt;, score=-5742.235 total time=   3.4s\n",
            "[CV 1/3] END .............max_features=log2;, score=-5422.906 total time=   3.4s\n",
            "[CV 2/3] END .............max_features=log2;, score=-5830.186 total time=   3.4s\n",
            "[CV 3/3] END .............max_features=log2;, score=-5742.235 total time=   3.4s\n",
            "[CV 1/3] END max_features=0.3333333333333333;, score=-4603.100 total time=   4.1s\n",
            "[CV 2/3] END max_features=0.3333333333333333;, score=-4949.267 total time=   4.1s\n",
            "[CV 3/3] END max_features=0.3333333333333333;, score=-4948.715 total time=   4.7s\n",
            "Fitting 3 folds for each of 9 candidates, totalling 27 fits\n",
            "[23:48:09] WARNING: /workspace/src/objective/regression_obj.cu:152: reg:linear is now deprecated in favor of reg:squarederror.\n",
            "[CV 1/3] END learning_rate=0.03, max_depth=3;, score=-5268.407 total time=   1.9s\n",
            "[23:48:11] WARNING: /workspace/src/objective/regression_obj.cu:152: reg:linear is now deprecated in favor of reg:squarederror.\n",
            "[CV 2/3] END learning_rate=0.03, max_depth=3;, score=-4840.108 total time=   1.8s\n",
            "[23:48:13] WARNING: /workspace/src/objective/regression_obj.cu:152: reg:linear is now deprecated in favor of reg:squarederror.\n",
            "[CV 3/3] END learning_rate=0.03, max_depth=3;, score=-5138.431 total time=   1.9s\n",
            "[23:48:15] WARNING: /workspace/src/objective/regression_obj.cu:152: reg:linear is now deprecated in favor of reg:squarederror.\n",
            "[CV 1/3] END learning_rate=0.03, max_depth=5;, score=-2369.265 total time=   3.0s\n",
            "[23:48:18] WARNING: /workspace/src/objective/regression_obj.cu:152: reg:linear is now deprecated in favor of reg:squarederror.\n",
            "[CV 2/3] END learning_rate=0.03, max_depth=5;, score=-2245.841 total time=   2.5s\n",
            "[23:48:20] WARNING: /workspace/src/objective/regression_obj.cu:152: reg:linear is now deprecated in favor of reg:squarederror.\n",
            "[CV 3/3] END learning_rate=0.03, max_depth=5;, score=-2227.360 total time=   1.9s\n",
            "[23:48:22] WARNING: /workspace/src/objective/regression_obj.cu:152: reg:linear is now deprecated in favor of reg:squarederror.\n",
            "[CV 1/3] END learning_rate=0.03, max_depth=7;, score=-1978.529 total time=   2.9s\n",
            "[23:48:25] WARNING: /workspace/src/objective/regression_obj.cu:152: reg:linear is now deprecated in favor of reg:squarederror.\n",
            "[CV 2/3] END learning_rate=0.03, max_depth=7;, score=-2037.298 total time=   2.8s\n",
            "[23:48:28] WARNING: /workspace/src/objective/regression_obj.cu:152: reg:linear is now deprecated in favor of reg:squarederror.\n",
            "[CV 3/3] END learning_rate=0.03, max_depth=7;, score=-1888.950 total time=   3.5s\n",
            "[23:48:31] WARNING: /workspace/src/objective/regression_obj.cu:152: reg:linear is now deprecated in favor of reg:squarederror.\n",
            "[CV 1/3] END learning_rate=0.05, max_depth=3;, score=-4326.564 total time=   1.3s\n",
            "[23:48:32] WARNING: /workspace/src/objective/regression_obj.cu:152: reg:linear is now deprecated in favor of reg:squarederror.\n",
            "[CV 2/3] END learning_rate=0.05, max_depth=3;, score=-3977.470 total time=   1.1s\n",
            "[23:48:34] WARNING: /workspace/src/objective/regression_obj.cu:152: reg:linear is now deprecated in favor of reg:squarederror.\n",
            "[CV 3/3] END learning_rate=0.05, max_depth=3;, score=-4235.212 total time=   1.1s\n",
            "[23:48:35] WARNING: /workspace/src/objective/regression_obj.cu:152: reg:linear is now deprecated in favor of reg:squarederror.\n",
            "[CV 1/3] END learning_rate=0.05, max_depth=5;, score=-2134.949 total time=   1.8s\n",
            "[23:48:36] WARNING: /workspace/src/objective/regression_obj.cu:152: reg:linear is now deprecated in favor of reg:squarederror.\n",
            "[CV 2/3] END learning_rate=0.05, max_depth=5;, score=-2059.257 total time=   1.8s\n",
            "[23:48:38] WARNING: /workspace/src/objective/regression_obj.cu:152: reg:linear is now deprecated in favor of reg:squarederror.\n",
            "[CV 3/3] END learning_rate=0.05, max_depth=5;, score=-2067.613 total time=   1.8s\n",
            "[23:48:40] WARNING: /workspace/src/objective/regression_obj.cu:152: reg:linear is now deprecated in favor of reg:squarederror.\n",
            "[CV 1/3] END learning_rate=0.05, max_depth=7;, score=-1954.157 total time=   2.8s\n",
            "[23:48:43] WARNING: /workspace/src/objective/regression_obj.cu:152: reg:linear is now deprecated in favor of reg:squarederror.\n",
            "[CV 2/3] END learning_rate=0.05, max_depth=7;, score=-1977.647 total time=   2.8s\n",
            "[23:48:46] WARNING: /workspace/src/objective/regression_obj.cu:152: reg:linear is now deprecated in favor of reg:squarederror.\n",
            "[CV 3/3] END learning_rate=0.05, max_depth=7;, score=-1856.736 total time=   2.8s\n",
            "[23:48:48] WARNING: /workspace/src/objective/regression_obj.cu:152: reg:linear is now deprecated in favor of reg:squarederror.\n",
            "[CV 1/3] END learning_rate=0.07, max_depth=3;, score=-3547.237 total time=   1.1s\n",
            "[23:48:50] WARNING: /workspace/src/objective/regression_obj.cu:152: reg:linear is now deprecated in favor of reg:squarederror.\n",
            "[CV 2/3] END learning_rate=0.07, max_depth=3;, score=-3427.736 total time=   1.1s\n",
            "[23:48:51] WARNING: /workspace/src/objective/regression_obj.cu:152: reg:linear is now deprecated in favor of reg:squarederror.\n",
            "[CV 3/3] END learning_rate=0.07, max_depth=3;, score=-3535.168 total time=   1.1s\n",
            "[23:48:52] WARNING: /workspace/src/objective/regression_obj.cu:152: reg:linear is now deprecated in favor of reg:squarederror.\n",
            "[CV 1/3] END learning_rate=0.07, max_depth=5;, score=-2186.887 total time=   1.8s\n",
            "[23:48:53] WARNING: /workspace/src/objective/regression_obj.cu:152: reg:linear is now deprecated in favor of reg:squarederror.\n",
            "[CV 2/3] END learning_rate=0.07, max_depth=5;, score=-2039.023 total time=   1.8s\n",
            "[23:48:55] WARNING: /workspace/src/objective/regression_obj.cu:152: reg:linear is now deprecated in favor of reg:squarederror.\n",
            "[CV 3/3] END learning_rate=0.07, max_depth=5;, score=-1983.316 total time=   1.8s\n",
            "[23:48:57] WARNING: /workspace/src/objective/regression_obj.cu:152: reg:linear is now deprecated in favor of reg:squarederror.\n",
            "[CV 1/3] END learning_rate=0.07, max_depth=7;, score=-1958.478 total time=   2.8s\n",
            "[23:49:00] WARNING: /workspace/src/objective/regression_obj.cu:152: reg:linear is now deprecated in favor of reg:squarederror.\n",
            "[CV 2/3] END learning_rate=0.07, max_depth=7;, score=-2006.049 total time=   3.5s\n",
            "[23:49:03] WARNING: /workspace/src/objective/regression_obj.cu:152: reg:linear is now deprecated in favor of reg:squarederror.\n",
            "[CV 3/3] END learning_rate=0.07, max_depth=7;, score=-1821.249 total time=   2.7s\n",
            "[23:49:06] WARNING: /workspace/src/objective/regression_obj.cu:152: reg:linear is now deprecated in favor of reg:squarederror.\n",
            "Fitting 3 folds for each of 4 candidates, totalling 12 fits\n",
            "[CV 1/3] END .............max_features=auto;, score=-5376.067 total time=   0.0s\n",
            "[CV 2/3] END .............max_features=auto;, score=-6436.585 total time=   0.0s\n",
            "[CV 3/3] END .............max_features=auto;, score=-6792.226 total time=   0.0s\n",
            "[CV 1/3] END ............max_features=sqrt;, score=-11189.645 total time=   0.0s\n",
            "[CV 2/3] END ............max_features=sqrt;, score=-12971.242 total time=   0.0s\n",
            "[CV 3/3] END ............max_features=sqrt;, score=-17705.798 total time=   0.0s\n",
            "[CV 1/3] END ............max_features=log2;, score=-11189.645 total time=   0.0s\n",
            "[CV 2/3] END ............max_features=log2;, score=-12971.242 total time=   0.0s\n",
            "[CV 3/3] END ............max_features=log2;, score=-17705.798 total time=   0.0s\n",
            "[CV 1/3] END max_features=0.3333333333333333;, score=-15369.145 total time=   0.0s\n",
            "[CV 2/3] END max_features=0.3333333333333333;, score=-13482.857 total time=   0.0s\n",
            "[CV 3/3] END max_features=0.3333333333333333;, score=-12901.097 total time=   0.0s\n"
          ]
        }
      ]
    },
    {
      "cell_type": "code",
      "source": [
        "cv_scores = {}\n",
        "cv_scores['Random forest'] = np.sqrt(-models['Random forest'].best_score_)\n",
        "cv_scores['XGB'] = np.sqrt(-models['XGB'].best_score_)\n",
        "cv_scores['decision tree'] = np.sqrt(-models['decision tree'].best_score_)\n",
        "\n",
        "cv_scores"
      ],
      "metadata": {
        "id": "SihWPdjaGNA2",
        "colab": {
          "base_uri": "https://localhost:8080/"
        },
        "outputId": "2daad589-c817-4d1a-bf35-d253e3a39ea7"
      },
      "execution_count": null,
      "outputs": [
        {
          "output_type": "execute_result",
          "data": {
            "text/plain": [
              "{'Random forest': 55.409930221242625,\n",
              " 'XGB': 43.915734780963,\n",
              " 'decision tree': 78.75040309172334}"
            ]
          },
          "metadata": {},
          "execution_count": 16
        }
      ]
    },
    {
      "cell_type": "code",
      "source": [
        "sns.set()\n",
        "cv_scores_df =pd.DataFrame.from_dict(cv_scores, orient='index')\n",
        "cv_scores_df.plot.bar(rot=45, legend=False)"
      ],
      "metadata": {
        "id": "BBJ8WlhDHcod",
        "colab": {
          "base_uri": "https://localhost:8080/",
          "height": 339
        },
        "outputId": "459e8f3f-08e3-4526-b10a-073524bd5369"
      },
      "execution_count": null,
      "outputs": [
        {
          "output_type": "execute_result",
          "data": {
            "text/plain": [
              "<matplotlib.axes._subplots.AxesSubplot at 0x7f8c6b5d8ed0>"
            ]
          },
          "metadata": {},
          "execution_count": 17
        },
        {
          "output_type": "display_data",
          "data": {
            "text/plain": [
              "<Figure size 432x288 with 1 Axes>"
            ],
            "image/png": "[encoded data removed]"
          },
          "metadata": {}
        }
      ]
    },
    {
      "cell_type": "markdown",
      "source": [
        "As we can see from the graph, XGB had the least RMSE error."
      ],
      "metadata": {
        "id": "CIOxE_vtcRMg"
      }
    },
    {
      "cell_type": "markdown",
      "source": [
        "##Feature selection\n"
      ],
      "metadata": {
        "id": "12w3frd0LxVG"
      }
    },
    {
      "cell_type": "markdown",
      "source": [
        "To find features importance we  used sklearn's built-in methods:\n",
        "\n"
      ],
      "metadata": {
        "id": "YeJ6UcatLMRN"
      }
    },
    {
      "cell_type": "code",
      "source": [
        "def find_feature_importance(model, columns):\n",
        "  importance = model.feature_importances_\n",
        "  importance *= 100 / np.max(importance)  # Normalize\n",
        "  importance = pd.DataFrame(importance, index=columns, columns=[\"Importance\"])\n",
        "  importance = importance.sort_values(by=['Importance'], ascending=False)\n",
        "  return importance"
      ],
      "metadata": {
        "id": "QPdk7-M3K6RD"
      },
      "execution_count": null,
      "outputs": []
    },
    {
      "cell_type": "code",
      "source": [
        "feature_importance_dict = {}\n",
        "feature_importance_dict['decision tree'] = find_feature_importance(models['decision tree'].best_estimator_, X_train.columns)\n",
        "feature_importance_dict['Random forest'] = find_feature_importance(models['Random forest'].best_estimator_, X_train.columns)\n",
        "feature_importance_dict['XGB'] = find_feature_importance(models['XGB'].best_estimator_, X_train.columns)"
      ],
      "metadata": {
        "id": "U5uSOVHqLVqV"
      },
      "execution_count": null,
      "outputs": []
    },
    {
      "cell_type": "markdown",
      "source": [
        "Let's visualize the different feature imprtance across the models:\n",
        "\n"
      ],
      "metadata": {
        "id": "U9b0f8fzMUNO"
      }
    },
    {
      "cell_type": "code",
      "source": [
        "sns.set()\n",
        "\n",
        "fig, axes = plt.subplots(3, 1, figsize=(12, 12))\n",
        "feature_importance_dict['Random forest'].plot(kind='barh', ax=axes[0], legend=False, title='Random forest')\n",
        "feature_importance_dict['XGB'].plot(kind='barh', ax=axes[1], legend=False, title='XGB')\n",
        "feature_importance_dict['decision tree'].plot(kind='barh', ax=axes[2], legend=False, title='decision_tree')"
      ],
      "metadata": {
        "id": "dMfO4FraMMP9",
        "colab": {
          "base_uri": "https://localhost:8080/",
          "height": 736
        },
        "outputId": "a08c2467-1194-4cd9-cb5d-e4a9cdcc3895"
      },
      "execution_count": null,
      "outputs": [
        {
          "output_type": "execute_result",
          "data": {
            "text/plain": [
              "<matplotlib.axes._subplots.AxesSubplot at 0x7f8c6b4c1810>"
            ]
          },
          "metadata": {},
          "execution_count": 20
        },
        {
          "output_type": "display_data",
          "data": {
            "text/plain": [
              "<Figure size 864x864 with 3 Axes>"
            ],
            "image/png": "[encoded data removed]"
          },
          "metadata": {}
        }
      ]
    },
    {
      "cell_type": "code",
      "source": [
        "strong_features_dict = {}\n",
        "for k, v in feature_importance_dict.items():\n",
        "  strong_features_dict[k] = list(v.index.values[:3])\n",
        "strong_features_dict"
      ],
      "metadata": {
        "id": "f9Zf_li5OhuN",
        "colab": {
          "base_uri": "https://localhost:8080/"
        },
        "outputId": "5f622cd8-2886-47ef-d465-719f2c55b51d"
      },
      "execution_count": null,
      "outputs": [
        {
          "output_type": "execute_result",
          "data": {
            "text/plain": [
              "{'decision tree': ['datetime_hour', 'pollution', 'sunlight'],\n",
              " 'Random forest': ['datetime_hour', 'pollution', 'sunlight'],\n",
              " 'XGB': ['datetime_hour', 'datetime_year', 'workingday']}"
            ]
          },
          "metadata": {},
          "execution_count": 21
        }
      ]
    },
    {
      "cell_type": "markdown",
      "source": [
        "So in **decision tree**  and **random forest** the 3 most important features was: **'datetime_hour', 'pollution', 'sunlight'**\n",
        "\n",
        "However **XGB** got two other most important features:\n",
        "**'datetime_hour', 'datetime_year', 'workingday'**\n"
      ],
      "metadata": {
        "id": "QgmKpQAfc6uh"
      }
    },
    {
      "cell_type": "markdown",
      "source": [
        "Determine the final hyperparameters for the models according to their best estimate"
      ],
      "metadata": {
        "id": "qaMbSnasvDJE"
      }
    },
    {
      "cell_type": "code",
      "source": [
        "trained_models_dict = {}\n",
        "trained_models_dict['Random forest'] = models['Random forest'].best_estimator_\n",
        "trained_models_dict['decision tree'] = models['decision tree'].best_estimator_\n",
        "trained_models_dict['XGB'] = models['XGB'].best_estimator_\n",
        "\n",
        "trained_models_dict"
      ],
      "metadata": {
        "id": "V1lpdY3RvCEF",
        "colab": {
          "base_uri": "https://localhost:8080/"
        },
        "outputId": "5f25c297-e91b-4411-cc81-279bc86d2bff"
      },
      "execution_count": null,
      "outputs": [
        {
          "output_type": "execute_result",
          "data": {
            "text/plain": [
              "{'Random forest': RandomForestRegressor(n_estimators=500, random_state=42),\n",
              " 'decision tree': DecisionTreeRegressor(max_features='auto', random_state=42),\n",
              " 'XGB': XGBRegressor(learning_rate=0.07, max_depth=7, n_estimators=500, random_state=42)}"
            ]
          },
          "metadata": {},
          "execution_count": 22
        }
      ]
    },
    {
      "cell_type": "markdown",
      "source": [
        "##Prepare the test set for the same train's formt"
      ],
      "metadata": {
        "id": "RePN6b6oHxHa"
      }
    },
    {
      "cell_type": "markdown",
      "source": [
        "take care the datetime column like the train set"
      ],
      "metadata": {
        "id": "t11ByLcxH8l-"
      }
    },
    {
      "cell_type": "code",
      "source": [
        "df_test=time_process(df_test)"
      ],
      "metadata": {
        "id": "-mp_U53KHv6e"
      },
      "execution_count": null,
      "outputs": []
    },
    {
      "cell_type": "markdown",
      "source": [
        "check the test data has'nt null values like the train set"
      ],
      "metadata": {
        "id": "F80j6IrXIVLn"
      }
    },
    {
      "cell_type": "code",
      "source": [
        "df_test[df_test.isnull()].count()"
      ],
      "metadata": {
        "id": "KzH1q-PTIYIL",
        "colab": {
          "base_uri": "https://localhost:8080/"
        },
        "outputId": "6eb9d7b0-4650-421e-f298-fce5463a781e"
      },
      "execution_count": null,
      "outputs": [
        {
          "output_type": "execute_result",
          "data": {
            "text/plain": [
              "season                0\n",
              "holiday               0\n",
              "workingday            0\n",
              "weather               0\n",
              "temp                  0\n",
              "atemp                 0\n",
              "humidity              0\n",
              "windspeed             0\n",
              "pollution             0\n",
              "sunlight              0\n",
              "traffic               0\n",
              "count                 0\n",
              "datetime_year         0\n",
              "datetime_month        0\n",
              "datetime_hour         0\n",
              "datetime_dayofweek    0\n",
              "dtype: int64"
            ]
          },
          "metadata": {},
          "execution_count": 24
        }
      ]
    },
    {
      "cell_type": "markdown",
      "source": [
        "We drop the columns like we did on train set"
      ],
      "metadata": {
        "id": "Q0iDYdN9JGri"
      }
    },
    {
      "cell_type": "code",
      "source": [
        "df_test.drop(['temp','season'],axis=1,inplace=True)"
      ],
      "metadata": {
        "id": "n7Ga6GAjIEnZ"
      },
      "execution_count": null,
      "outputs": []
    },
    {
      "cell_type": "code",
      "source": [
        "X_test = df_test.drop(['count'], axis=1)\n",
        "Y_test = df_test[['count']]"
      ],
      "metadata": {
        "id": "v2y7mAqzNTQE"
      },
      "execution_count": null,
      "outputs": []
    },
    {
      "cell_type": "markdown",
      "source": [
        "## Evaluating on test set"
      ],
      "metadata": {
        "id": "txPnE69BJO4E"
      }
    },
    {
      "cell_type": "code",
      "source": [
        "def evaluate_single_model(x, y, model):\n",
        "  y_pred = model.predict(x)\n",
        "  return np.sqrt( mean_squared_error(y, y_pred))"
      ],
      "metadata": {
        "id": "J2hIclEWJFjM"
      },
      "execution_count": null,
      "outputs": []
    },
    {
      "cell_type": "code",
      "source": [
        "def evaluate_all_models(x, y, models_dict,dict_time):\n",
        "  test_set_scores = {}\n",
        "  for k, v in models_dict.items():\n",
        "    strat=time.time()\n",
        "    test_set_scores[k] = evaluate_single_model(x, y, v)\n",
        "    end=time.time()\n",
        "    dict_time[k]+=(end-strat)\n",
        "  return test_set_scores,dict_time"
      ],
      "metadata": {
        "id": "qNa111l6JRu8"
      },
      "execution_count": null,
      "outputs": []
    },
    {
      "cell_type": "code",
      "source": [
        "test_set_scores,dict_time = evaluate_all_models(X_test, Y_test, trained_models_dict,dict_time)\n",
        "test_set_scores"
      ],
      "metadata": {
        "id": "43So-yTYNKzb",
        "colab": {
          "base_uri": "https://localhost:8080/"
        },
        "outputId": "1f0b2754-b0d8-4bad-b87e-339509590118"
      },
      "execution_count": null,
      "outputs": [
        {
          "output_type": "execute_result",
          "data": {
            "text/plain": [
              "{'Random forest': 46.36715245762517,\n",
              " 'decision tree': 66.22250583605596,\n",
              " 'XGB': 39.62176105617667}"
            ]
          },
          "metadata": {},
          "execution_count": 29
        }
      ]
    },
    {
      "cell_type": "code",
      "source": [
        "results = {'model': test_set_scores.keys(),\n",
        "           'Score (RMSE)': test_set_scores.values(),\n",
        "           'Hyperparams used': trained_models_dict.values(),\n",
        "           'Features dropped': [Features_dropped, Features_dropped, Features_dropped],\n",
        "           'New features created': [New_features_created, New_features_created, New_features_created],\n",
        "           'Runtime trainining + inference (seconds)':dict_time.values(),\n",
        "           'Hardware used (GPU/CPU/TPU)': ['CPU', 'CPU', 'CPU'],\n",
        "           'Explainability (top 3 features)': [strong_features_dict['Random forest'], strong_features_dict['decision tree'], strong_features_dict['XGB']]\n",
        "           }\n",
        "\n",
        "df = pd.DataFrame(results)\n",
        "df"
      ],
      "metadata": {
        "id": "wSWuJByuNwWU",
        "colab": {
          "base_uri": "https://localhost:8080/",
          "height": 344
        },
        "outputId": "7854e96d-0367-4c48-d14b-944c8ccddb61"
      },
      "execution_count": null,
      "outputs": [
        {
          "output_type": "execute_result",
          "data": {
            "text/plain": [
              "           model  Score (RMSE)  \\\n",
              "0  Random forest     46.367152   \n",
              "1  decision tree     66.222506   \n",
              "2            XGB     39.621761   \n",
              "\n",
              "                                    Hyperparams used  \\\n",
              "0  (DecisionTreeRegressor(max_features='auto', ra...   \n",
              "1  DecisionTreeRegressor(max_features='auto', ran...   \n",
              "2  XGBRegressor(learning_rate=0.07, max_depth=7, ...   \n",
              "\n",
              "           Features dropped  \\\n",
              "0  [datetime, temp, season]   \n",
              "1  [datetime, temp, season]   \n",
              "2  [datetime, temp, season]   \n",
              "\n",
              "                                New features created  \\\n",
              "0  [datetime_year, datetime_month, datetime_hour,...   \n",
              "1  [datetime_year, datetime_month, datetime_hour,...   \n",
              "2  [datetime_year, datetime_month, datetime_hour,...   \n",
              "\n",
              "   Runtime trainining + inference (seconds) Hardware used (GPU/CPU/TPU)  \\\n",
              "0                                 84.532425                         CPU   \n",
              "1                                  0.301704                         CPU   \n",
              "2                                 62.419672                         CPU   \n",
              "\n",
              "              Explainability (top 3 features)  \n",
              "0        [datetime_hour, pollution, sunlight]  \n",
              "1        [datetime_hour, pollution, sunlight]  \n",
              "2  [datetime_hour, datetime_year, workingday]  "
            ],
            "text/html": [
              "\n",
              "  <div id=\"df-c5f79504-238f-4324-b761-14f32024ba37\">\n",
              "    <div class=\"colab-df-container\">\n",
              "      <div>\n",
              "<style scoped>\n",
              "    .dataframe tbody tr th:only-of-type {\n",
              "        vertical-align: middle;\n",
              "    }\n",
              "\n",
              "    .dataframe tbody tr th {\n",
              "        vertical-align: top;\n",
              "    }\n",
              "\n",
              "    .dataframe thead th {\n",
              "        text-align: right;\n",
              "    }\n",
              "</style>\n",
              "<table border=\"1\" class=\"dataframe\">\n",
              "  <thead>\n",
              "    <tr style=\"text-align: right;\">\n",
              "      <th></th>\n",
              "      <th>model</th>\n",
              "      <th>Score (RMSE)</th>\n",
              "      <th>Hyperparams used</th>\n",
              "      <th>Features dropped</th>\n",
              "      <th>New features created</th>\n",
              "      <th>Runtime trainining + inference (seconds)</th>\n",
              "      <th>Hardware used (GPU/CPU/TPU)</th>\n",
              "      <th>Explainability (top 3 features)</th>\n",
              "    </tr>\n",
              "  </thead>\n",
              "  <tbody>\n",
              "    <tr>\n",
              "      <th>0</th>\n",
              "      <td>Random forest</td>\n",
              "      <td>46.367152</td>\n",
              "      <td>(DecisionTreeRegressor(max_features='auto', ra...</td>\n",
              "      <td>[datetime, temp, season]</td>\n",
              "      <td>[datetime_year, datetime_month, datetime_hour,...</td>\n",
              "      <td>84.532425</td>\n",
              "      <td>CPU</td>\n",
              "      <td>[datetime_hour, pollution, sunlight]</td>\n",
              "    </tr>\n",
              "    <tr>\n",
              "      <th>1</th>\n",
              "      <td>decision tree</td>\n",
              "      <td>66.222506</td>\n",
              "      <td>DecisionTreeRegressor(max_features='auto', ran...</td>\n",
              "      <td>[datetime, temp, season]</td>\n",
              "      <td>[datetime_year, datetime_month, datetime_hour,...</td>\n",
              "      <td>0.301704</td>\n",
              "      <td>CPU</td>\n",
              "      <td>[datetime_hour, pollution, sunlight]</td>\n",
              "    </tr>\n",
              "    <tr>\n",
              "      <th>2</th>\n",
              "      <td>XGB</td>\n",
              "      <td>39.621761</td>\n",
              "      <td>XGBRegressor(learning_rate=0.07, max_depth=7, ...</td>\n",
              "      <td>[datetime, temp, season]</td>\n",
              "      <td>[datetime_year, datetime_month, datetime_hour,...</td>\n",
              "      <td>62.419672</td>\n",
              "      <td>CPU</td>\n",
              "      <td>[datetime_hour, datetime_year, workingday]</td>\n",
              "    </tr>\n",
              "  </tbody>\n",
              "</table>\n",
              "</div>\n",
              "      <button class=\"colab-df-convert\" onclick=\"convertToInteractive('df-c5f79504-238f-4324-b761-14f32024ba37')\"\n",
              "              title=\"Convert this dataframe to an interactive table.\"\n",
              "              style=\"display:none;\">\n",
              "        \n",
              "  <svg xmlns=\"http://www.w3.org/2000/svg\" height=\"24px\"viewBox=\"0 0 24 24\"\n",
              "       width=\"24px\">\n",
              "    <path d=\"M0 0h24v24H0V0z\" fill=\"none\"/>\n",
              "    <path d=\"M18.56 5.44l.94 2.06.94-2.06 2.06-.94-2.06-.94-.94-2.06-.94 2.06-2.06.94zm-11 1L8.5 8.5l.94-2.06 2.06-.94-2.06-.94L8.5 2.5l-.94 2.06-2.06.94zm10 10l.94 2.06.94-2.06 2.06-.94-2.06-.94-.94-2.06-.94 2.06-2.06.94z\"/><path d=\"M17.41 7.96l-1.37-1.37c-.4-.4-.92-.59-1.43-.59-.52 0-1.04.2-1.43.59L10.3 9.45l-7.72 7.72c-.78.78-.78 2.05 0 2.83L4 21.41c.39.39.9.59 1.41.59.51 0 1.02-.2 1.41-.59l7.78-7.78 2.81-2.81c.8-.78.8-2.07 0-2.86zM5.41 20L4 18.59l7.72-7.72 1.47 1.35L5.41 20z\"/>\n",
              "  </svg>\n",
              "      </button>\n",
              "      \n",
              "  <style>\n",
              "    .colab-df-container {\n",
              "      display:flex;\n",
              "      flex-wrap:wrap;\n",
              "      gap: 12px;\n",
              "    }\n",
              "\n",
              "    .colab-df-convert {\n",
              "      background-color: #E8F0FE;\n",
              "      border: none;\n",
              "      border-radius: 50%;\n",
              "      cursor: pointer;\n",
              "      display: none;\n",
              "      fill: #1967D2;\n",
              "      height: 32px;\n",
              "      padding: 0 0 0 0;\n",
              "      width: 32px;\n",
              "    }\n",
              "\n",
              "    .colab-df-convert:hover {\n",
              "      background-color: #E2EBFA;\n",
              "      box-shadow: 0px 1px 2px rgba(60, 64, 67, 0.3), 0px 1px 3px 1px rgba(60, 64, 67, 0.15);\n",
              "      fill: #174EA6;\n",
              "    }\n",
              "\n",
              "    [theme=dark] .colab-df-convert {\n",
              "      background-color: #3B4455;\n",
              "      fill: #D2E3FC;\n",
              "    }\n",
              "\n",
              "    [theme=dark] .colab-df-convert:hover {\n",
              "      background-color: #434B5C;\n",
              "      box-shadow: 0px 1px 3px 1px rgba(0, 0, 0, 0.15);\n",
              "      filter: drop-shadow(0px 1px 2px rgba(0, 0, 0, 0.3));\n",
              "      fill: #FFFFFF;\n",
              "    }\n",
              "  </style>\n",
              "\n",
              "      <script>\n",
              "        const buttonEl =\n",
              "          document.querySelector('#df-c5f79504-238f-4324-b761-14f32024ba37 button.colab-df-convert');\n",
              "        buttonEl.style.display =\n",
              "          google.colab.kernel.accessAllowed ? 'block' : 'none';\n",
              "\n",
              "        async function convertToInteractive(key) {\n",
              "          const element = document.querySelector('#df-c5f79504-238f-4324-b761-14f32024ba37');\n",
              "          const dataTable =\n",
              "            await google.colab.kernel.invokeFunction('convertToInteractive',\n",
              "                                                     [key], {});\n",
              "          if (!dataTable) return;\n",
              "\n",
              "          const docLinkHtml = 'Like what you see? Visit the ' +\n",
              "            '<a target=\"_blank\" href=https://colab.research.google.com/notebooks/data_table.ipynb>data table notebook</a>'\n",
              "            + ' to learn more about interactive tables.';\n",
              "          element.innerHTML = '';\n",
              "          dataTable['output_type'] = 'display_data';\n",
              "          await google.colab.output.renderOutput(dataTable, element);\n",
              "          const docLink = document.createElement('div');\n",
              "          docLink.innerHTML = docLinkHtml;\n",
              "          element.appendChild(docLink);\n",
              "        }\n",
              "      </script>\n",
              "    </div>\n",
              "  </div>\n",
              "  "
            ]
          },
          "metadata": {},
          "execution_count": 30
        }
      ]
    },
    {
      "cell_type": "markdown",
      "source": [
        "We can see that XGB has the best score (because we want the lower RMSE). In addition his total runtime (train and evaluate) is smaller than Random forest. We chose to use GridSearchCV method for choosing the hyperparams of each model. We chose CPU hardware, because we didn't use NN model which requires GPU and it has higher price."
      ],
      "metadata": {
        "id": "6ttSumniCCMt"
      }
    },
    {
      "cell_type": "code",
      "source": [
        "df.to_csv(os.path.join(os.getcwd(), 'exercise1.csv'))"
      ],
      "metadata": {
        "id": "rM9cJ2Jnfc_q"
      },
      "execution_count": null,
      "outputs": []
    }
  ]
}